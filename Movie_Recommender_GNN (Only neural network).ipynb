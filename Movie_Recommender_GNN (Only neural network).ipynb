{
 "cells": [
  {
   "cell_type": "code",
   "execution_count": 2,
   "id": "e5c5920a",
   "metadata": {},
   "outputs": [],
   "source": [
    "import tensorflow_gnn as tfgnn\n",
    "import tensorflow as tf\n",
    "# Model hyper-parameters:\n",
    "h_dims = {'user': 256, 'movie': 64, 'genre': 128}\n",
    "    \n",
    "    # Model builder initialization:\n",
    "gnn = tfgnn.keras.ConvGNNBuilder(\n",
    "    lambda edge_set_name: WeightedSumConvolution(),\n",
    "    lambda node_set_name: tfgnn.keras.layers.NextStateFromConcat(\n",
    "    tf.keras.layers.Dense(h_dims[node_set_name]))\n",
    "    )\n",
    "    \n",
    "    # Two rounds of message passing to target node sets:\n",
    "model = tf.keras.models.Sequential([\n",
    "        gnn.Convolve({'genre'}),  # sends messages from movie to genre\n",
    "        gnn.Convolve({'user'}),  # sends messages from movie and genre to users\n",
    "        tfgnn.keras.layers.Readout(node_set_name=\"user\"),\n",
    "        tf.keras.layers.Dense(1)\n",
    "    ])"
   ]
  },
  {
   "cell_type": "code",
   "execution_count": 10,
   "id": "37e0659f",
   "metadata": {},
   "outputs": [],
   "source": [
    "class WeightedSumConvolution(tf.keras.layers.Layer):\n",
    "        def call(self, graph: tfgnn.GraphTensor,\n",
    "               edge_set_name: tfgnn.EdgeSetName) -> tfgnn.Field:\n",
    "            messages = tfgnn.broadcast_node_to_edges(\n",
    "                graph,\n",
    "                edge_set_name,\n",
    "                tfgnn.SOURCE,\n",
    "                feature_name=tfgnn.DEFAULT_STATE_NAME)\n",
    "            weights = graph.edge_sets[edge_set_name]['weight']\n",
    "            weighted_messages = tf.expand_dims(weights, -1) * messages\n",
    "            pooled_messages = tfgnn.pool_edges_to_node(\n",
    "                graph,\n",
    "                edge_set_name,\n",
    "                tfgnn.TARGET,\n",
    "                reduce_type='sum',\n",
    "                feature_value=weighted_messages)\n",
    "            return pooled_messages"
   ]
  },
  {
   "cell_type": "code",
   "execution_count": null,
   "id": "acab3e03",
   "metadata": {},
   "outputs": [],
   "source": []
  }
 ],
 "metadata": {
  "kernelspec": {
   "display_name": "Python 3 (ipykernel)",
   "language": "python",
   "name": "python3"
  },
  "language_info": {
   "codemirror_mode": {
    "name": "ipython",
    "version": 3
   },
   "file_extension": ".py",
   "mimetype": "text/x-python",
   "name": "python",
   "nbconvert_exporter": "python",
   "pygments_lexer": "ipython3",
   "version": "3.10.8"
  }
 },
 "nbformat": 4,
 "nbformat_minor": 5
}
