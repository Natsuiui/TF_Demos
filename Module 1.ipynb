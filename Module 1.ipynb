{
 "cells": [
  {
   "cell_type": "code",
   "execution_count": 8,
   "id": "ae1903b9",
   "metadata": {},
   "outputs": [
    {
     "name": "stdout",
     "output_type": "stream",
     "text": [
      "<module 'tensorflow._api.v2.version' from '/Users/natsu/miniconda3/lib/python3.10/site-packages/tensorflow/_api/v2/version/__init__.py'>\n"
     ]
    }
   ],
   "source": [
    "import tensorflow as tf\n",
    "print(tf.version)"
   ]
  },
  {
   "cell_type": "code",
   "execution_count": 9,
   "id": "7647f492",
   "metadata": {},
   "outputs": [],
   "source": [
    "string = tf.Variable(\"This is a string\", tf.string)\n",
    "number = tf.Variable(312, tf.int32)\n",
    "floating = tf.Variable(3.567, tf.float64)\n",
    "# these are rank 0 tensors"
   ]
  },
  {
   "cell_type": "code",
   "execution_count": 10,
   "id": "3e88c52d",
   "metadata": {},
   "outputs": [],
   "source": [
    "rank1_tensor = tf.Variable([\"Test\"], tf.string)  # rank is 1\n",
    "rank2_tensor = tf.Variable([[\"test\", \"ok\"], [\"test\", \"yes\"]], tf.string)  # rank is 2"
   ]
  },
  {
   "cell_type": "code",
   "execution_count": 11,
   "id": "849f4cd0",
   "metadata": {},
   "outputs": [
    {
     "data": {
      "text/plain": [
       "<tf.Tensor: shape=(), dtype=int32, numpy=2>"
      ]
     },
     "execution_count": 11,
     "metadata": {},
     "output_type": "execute_result"
    }
   ],
   "source": [
    "# to determine rank -\n",
    "tf.rank(rank2_tensor)"
   ]
  },
  {
   "cell_type": "code",
   "execution_count": 12,
   "id": "7e231090",
   "metadata": {},
   "outputs": [
    {
     "data": {
      "text/plain": [
       "TensorShape([2, 2])"
      ]
     },
     "execution_count": 12,
     "metadata": {},
     "output_type": "execute_result"
    }
   ],
   "source": [
    "# to get shape of a tensor - which is basically number of elements in each dimension\n",
    "rank2_tensor.shape"
   ]
  },
  {
   "cell_type": "code",
   "execution_count": 20,
   "id": "2265f9cf",
   "metadata": {},
   "outputs": [],
   "source": [
    "tensor1 = tf.ones([1,2,3])  # creates a tensor with shape [1,2,3] with all elements = 1\n",
    "tensor2 = tf.reshape(tensor1, [2,3,1])  # reshapes the tensor1 to the shape [2,3,1]\n",
    "\n",
    "# check tensor3 variable syntax on google *reminder*\n",
    "tensor3 = tf.reshape(tensor2, [3, -1])  #  -1 tells the tensor to calculate the size of the dimension in that place\n",
    "                                        #  this will reshape the tensor to a [3,2] tensor\n",
    "    \n",
    "# The numer of elements in the reshaped tensor MUST match the number in the original (obviously)"
   ]
  },
  {
   "cell_type": "code",
   "execution_count": 21,
   "id": "b18b7063",
   "metadata": {},
   "outputs": [
    {
     "name": "stdout",
     "output_type": "stream",
     "text": [
      "tf.Tensor(\n",
      "[[[1. 1. 1.]\n",
      "  [1. 1. 1.]]], shape=(1, 2, 3), dtype=float32)\n",
      "tf.Tensor(\n",
      "[[[1.]\n",
      "  [1.]\n",
      "  [1.]]\n",
      "\n",
      " [[1.]\n",
      "  [1.]\n",
      "  [1.]]], shape=(2, 3, 1), dtype=float32)\n",
      "tf.Tensor(\n",
      "[[1. 1.]\n",
      " [1. 1.]\n",
      " [1. 1.]], shape=(3, 2), dtype=float32)\n"
     ]
    }
   ],
   "source": [
    "print(tensor1)\n",
    "print(tensor2)\n",
    "print(tensor3)\n",
    "# Notice the changes in shape"
   ]
  },
  {
   "cell_type": "code",
   "execution_count": 22,
   "id": "7ae0fa6c",
   "metadata": {},
   "outputs": [
    {
     "name": "stdout",
     "output_type": "stream",
     "text": [
      "tf.Tensor(2, shape=(), dtype=int32)\n",
      "(4, 5)\n"
     ]
    }
   ],
   "source": [
    "# Creating a 2D tensor\n",
    "matrix = [[1,2,3,4,5],\n",
    "          [6,7,8,9,10],\n",
    "          [11,12,13,14,15],\n",
    "          [16,17,18,19,20]]\n",
    "\n",
    "tensor = tf.Variable(matrix, dtype=tf.int32) \n",
    "print(tf.rank(tensor))\n",
    "print(tensor.shape)"
   ]
  },
  {
   "cell_type": "code",
   "execution_count": 26,
   "id": "1ff7ab4a",
   "metadata": {},
   "outputs": [
    {
     "name": "stdout",
     "output_type": "stream",
     "text": [
      "tf.Tensor(3, shape=(), dtype=int32)\n",
      "tf.Tensor([1 2 3 4 5], shape=(5,), dtype=int32)\n",
      "tf.Tensor([ 1  6 11 16], shape=(4,), dtype=int32)\n",
      "tf.Tensor(\n",
      "[[ 6  7  8  9 10]\n",
      " [16 17 18 19 20]], shape=(2, 5), dtype=int32)\n",
      "tf.Tensor([ 6 11], shape=(2,), dtype=int32)\n"
     ]
    }
   ],
   "source": [
    "# Now lets select some different rows and columns from our tensor\n",
    "\n",
    "three = tensor[0,2]  # selects the 3rd element from the 1st row\n",
    "print(three)  # -> 3\n",
    "\n",
    "row1 = tensor[0]  # selects the first row\n",
    "print(row1)\n",
    "\n",
    "column1 = tensor[:, 0]  # selects the first column\n",
    "print(column1)\n",
    "\n",
    "row_2_and_4 = tensor[1::2]  # selects second and fourth row\n",
    "print(row_2_and_4)\n",
    "\n",
    "column_1_in_row_2_and_3 = tensor[1:3, 0]\n",
    "print(column_1_in_row_2_and_3)"
   ]
  },
  {
   "cell_type": "code",
   "execution_count": 27,
   "id": "ccc5ed8a",
   "metadata": {},
   "outputs": [],
   "source": [
    "# watch a video for tensor slicing pleaseeeeeeeeee = 0 \n",
    "# as not done, change to 1 if done"
   ]
  }
 ],
 "metadata": {
  "kernelspec": {
   "display_name": "Python 3 (ipykernel)",
   "language": "python",
   "name": "python3"
  },
  "language_info": {
   "codemirror_mode": {
    "name": "ipython",
    "version": 3
   },
   "file_extension": ".py",
   "mimetype": "text/x-python",
   "name": "python",
   "nbconvert_exporter": "python",
   "pygments_lexer": "ipython3",
   "version": "3.10.8"
  }
 },
 "nbformat": 4,
 "nbformat_minor": 5
}
