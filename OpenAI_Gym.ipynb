{
 "cells": [
  {
   "cell_type": "code",
   "execution_count": 32,
   "id": "3d317cd7",
   "metadata": {},
   "outputs": [],
   "source": [
    "import gym   # all you have to do to import and use open ai gym!"
   ]
  },
  {
   "cell_type": "code",
   "execution_count": 33,
   "id": "980810ee",
   "metadata": {},
   "outputs": [],
   "source": [
    "env = gym.make('FrozenLake-v1', render_mode=\"rgb_array\")  # we are going to use the FrozenLake enviornment"
   ]
  },
  {
   "cell_type": "code",
   "execution_count": 34,
   "id": "15b0af87",
   "metadata": {},
   "outputs": [
    {
     "name": "stdout",
     "output_type": "stream",
     "text": [
      "16\n",
      "4\n"
     ]
    }
   ],
   "source": [
    "print(env.observation_space.n)   # get number of states\n",
    "print(env.action_space.n)   # get number of actions"
   ]
  },
  {
   "cell_type": "code",
   "execution_count": 35,
   "id": "2e0f51e4",
   "metadata": {},
   "outputs": [
    {
     "data": {
      "text/plain": [
       "(0, {'prob': 1})"
      ]
     },
     "execution_count": 35,
     "metadata": {},
     "output_type": "execute_result"
    }
   ],
   "source": [
    "env.reset()  # reset enviornment to default state"
   ]
  },
  {
   "cell_type": "code",
   "execution_count": 36,
   "id": "a9f6ba33",
   "metadata": {},
   "outputs": [],
   "source": [
    "action = env.action_space.sample()  # get a random action "
   ]
  },
  {
   "cell_type": "code",
   "execution_count": 37,
   "id": "641c62eb",
   "metadata": {},
   "outputs": [
    {
     "name": "stdout",
     "output_type": "stream",
     "text": [
      "(0, 0.0, False, False, {'prob': 0.3333333333333333})\n"
     ]
    }
   ],
   "source": [
    "print(env.step(action))"
   ]
  },
  {
   "cell_type": "code",
   "execution_count": 38,
   "id": "a4e5f6d9",
   "metadata": {},
   "outputs": [],
   "source": [
    "new_state, reward, done, info, useless= env.step(action)  # take action, notice it returns information about the action"
   ]
  },
  {
   "cell_type": "code",
   "execution_count": 39,
   "id": "afa274f6",
   "metadata": {
    "scrolled": true
   },
   "outputs": [
    {
     "data": {
      "text/plain": [
       "array([[[180, 200, 230],\n",
       "        [180, 200, 230],\n",
       "        [180, 200, 230],\n",
       "        ...,\n",
       "        [180, 200, 230],\n",
       "        [180, 200, 230],\n",
       "        [180, 200, 230]],\n",
       "\n",
       "       [[180, 200, 230],\n",
       "        [204, 230, 255],\n",
       "        [204, 230, 255],\n",
       "        ...,\n",
       "        [204, 230, 255],\n",
       "        [204, 230, 255],\n",
       "        [180, 200, 230]],\n",
       "\n",
       "       [[180, 200, 230],\n",
       "        [235, 245, 249],\n",
       "        [204, 230, 255],\n",
       "        ...,\n",
       "        [204, 230, 255],\n",
       "        [204, 230, 255],\n",
       "        [180, 200, 230]],\n",
       "\n",
       "       ...,\n",
       "\n",
       "       [[180, 200, 230],\n",
       "        [235, 245, 249],\n",
       "        [235, 245, 249],\n",
       "        ...,\n",
       "        [204, 230, 255],\n",
       "        [235, 245, 249],\n",
       "        [180, 200, 230]],\n",
       "\n",
       "       [[180, 200, 230],\n",
       "        [235, 245, 249],\n",
       "        [235, 245, 249],\n",
       "        ...,\n",
       "        [204, 230, 255],\n",
       "        [204, 230, 255],\n",
       "        [180, 200, 230]],\n",
       "\n",
       "       [[180, 200, 230],\n",
       "        [180, 200, 230],\n",
       "        [180, 200, 230],\n",
       "        ...,\n",
       "        [180, 200, 230],\n",
       "        [180, 200, 230],\n",
       "        [180, 200, 230]]], dtype=uint8)"
      ]
     },
     "execution_count": 39,
     "metadata": {},
     "output_type": "execute_result"
    }
   ],
   "source": [
    "env.render()   # render the GUI for the enviornment "
   ]
  },
  {
   "cell_type": "code",
   "execution_count": 40,
   "id": "62b40e81",
   "metadata": {},
   "outputs": [],
   "source": [
    "import gym\n",
    "import numpy as np\n",
    "import time\n",
    "\n",
    "env = gym.make('FrozenLake-v1')\n",
    "STATES = env.observation_space.n\n",
    "ACTIONS = env.action_space.n"
   ]
  },
  {
   "cell_type": "code",
   "execution_count": 41,
   "id": "875c4bea",
   "metadata": {},
   "outputs": [
    {
     "data": {
      "text/plain": [
       "array([[0., 0., 0., 0.],\n",
       "       [0., 0., 0., 0.],\n",
       "       [0., 0., 0., 0.],\n",
       "       [0., 0., 0., 0.],\n",
       "       [0., 0., 0., 0.],\n",
       "       [0., 0., 0., 0.],\n",
       "       [0., 0., 0., 0.],\n",
       "       [0., 0., 0., 0.],\n",
       "       [0., 0., 0., 0.],\n",
       "       [0., 0., 0., 0.],\n",
       "       [0., 0., 0., 0.],\n",
       "       [0., 0., 0., 0.],\n",
       "       [0., 0., 0., 0.],\n",
       "       [0., 0., 0., 0.],\n",
       "       [0., 0., 0., 0.],\n",
       "       [0., 0., 0., 0.]])"
      ]
     },
     "execution_count": 41,
     "metadata": {},
     "output_type": "execute_result"
    }
   ],
   "source": [
    "Q = np.zeros((STATES, ACTIONS))  # create a matrix with all 0 values \n",
    "Q"
   ]
  },
  {
   "cell_type": "code",
   "execution_count": 42,
   "id": "0d126645",
   "metadata": {},
   "outputs": [],
   "source": [
    "EPISODES = 2000 # how many times to run the enviornment from the beginning\n",
    "MAX_STEPS = 100  # max number of steps allowed for each run of enviornment\n",
    "\n",
    "LEARNING_RATE = 0.81  # learning rate\n",
    "GAMMA = 0.96"
   ]
  },
  {
   "cell_type": "code",
   "execution_count": null,
   "id": "452e1778",
   "metadata": {},
   "outputs": [],
   "source": []
  }
 ],
 "metadata": {
  "kernelspec": {
   "display_name": "Python 3 (ipykernel)",
   "language": "python",
   "name": "python3"
  },
  "language_info": {
   "codemirror_mode": {
    "name": "ipython",
    "version": 3
   },
   "file_extension": ".py",
   "mimetype": "text/x-python",
   "name": "python",
   "nbconvert_exporter": "python",
   "pygments_lexer": "ipython3",
   "version": "3.10.8"
  }
 },
 "nbformat": 4,
 "nbformat_minor": 5
}
